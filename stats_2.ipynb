{
  "nbformat": 4,
  "nbformat_minor": 0,
  "metadata": {
    "colab": {
      "provenance": []
    },
    "kernelspec": {
      "name": "python3",
      "display_name": "Python 3"
    },
    "language_info": {
      "name": "python"
    }
  },
  "cells": [
    {
      "cell_type": "markdown",
      "source": [
        "# **Statistics Advance Part 1**\n",
        "\n",
        "---\n",
        "\n"
      ],
      "metadata": {
        "id": "Yhhkdn8_bSsL"
      }
    },
    {
      "cell_type": "markdown",
      "source": [
        "1. What is a random variable in probability theory?\n",
        "-> A random variable is a variable that takes on different values based on the outcome of a random event. It can be:\n",
        "\n",
        "- Discrete (e.g., number of heads in 3 coin tosses)\n",
        "\n",
        "- Continuous (e.g., height of students)\n",
        "\n",
        "It maps outcomes to numbers."
      ],
      "metadata": {
        "id": "O4iJwsl7bZmK"
      }
    },
    {
      "cell_type": "markdown",
      "source": [
        "2. What are the types of random variables ?\n",
        "-> Two main types:\n",
        "\n",
        "- Discrete Random Variable – Takes countable values (e.g., 0, 1, 2…).\n",
        "\n",
        "- Continuous Random Variable – Takes infinite values within a range (e.g., 1.2, 2.35…)."
      ],
      "metadata": {
        "id": "wz3kPs8AbkQr"
      }
    },
    {
      "cell_type": "markdown",
      "source": [
        "3. What is the difference between discrete and continuous distributions ?\n",
        "- Discrete distribution is used when the random variable can take only specific, separate values. For example, the number of goals in a football match — you can have 0, 1, 2 goals, but not 1.5 goals. The probability is assigned to each possible value.\n",
        "\n",
        "- Continuous distribution is used when the random variable can take any value within a range. For example, a person’s height could be 170.2 cm, 170.25 cm, etc. There are infinite possibilities, so we calculate the probability over intervals (like the chance height is between 170 and 175 cm), not exact values."
      ],
      "metadata": {
        "id": "Ghi8RUQdbxJb"
      }
    },
    {
      "cell_type": "markdown",
      "source": [
        "4. What are probability distribution functions (PDF) ?\n",
        "-> Probability Distribution Functions (PDFs) describe how probabilities are distributed over the values of a random variable.\n",
        "\n",
        "- For a discrete variable, it’s called a Probability Mass Function (PMF). It gives the probability for each exact value (e.g., P(X = 2) = 0.3).\n",
        "\n",
        "- For a continuous variable, the Probability Density Function (PDF) gives the probability density at each point. You don’t get the probability at an exact value but over a range (e.g., P(1 < X < 2)).\n",
        "\n",
        "PDFs help us understand the likelihood of different outcomes."
      ],
      "metadata": {
        "id": "8WNUONG4cVMT"
      }
    },
    {
      "cell_type": "markdown",
      "source": [
        "5.  How do cumulative distribution functions (CDF) differ from probability distribution functions (PDF) ?\n",
        "-> PDF (Probability Distribution Function) shows the likelihood at a specific value or range.\n",
        "\n",
        "- For discrete: gives P(X = x)\n",
        "\n",
        "- For continuous: gives the density, used to find probability over an interval\n",
        "\n",
        "CDF (Cumulative Distribution Function) shows the probability that a random variable is less than or equal to a value.\n",
        "\n",
        "- P(X ≤ x)\n",
        "\n",
        "Key difference:\n",
        "\n",
        "- PDF shows “how likely” a value is\n",
        "\n",
        "- CDF shows “how much has accumulated” up to a value"
      ],
      "metadata": {
        "id": "UDw0DXg2cnhD"
      }
    },
    {
      "cell_type": "markdown",
      "source": [
        "6.  What is a discrete uniform distribution ?\n",
        "-> A discrete uniform distribution is when all outcomes in a finite set have equal probability.\n",
        "\n",
        "Example: Rolling a fair 6-sided die. Each outcome (1 to 6) has a probability of 1/6.\n",
        "\n",
        "Formula:\n",
        "P(X = x) = 1/n for all values in the set, where n is the number of possible outcomes.\n",
        "\n",
        "It's \"uniform\" because the probabilities are evenly spread."
      ],
      "metadata": {
        "id": "ozTQss-GdC2z"
      }
    },
    {
      "cell_type": "markdown",
      "source": [
        "7.  What are the key properties of a Bernoulli distribution ?\n",
        "-> Key properties of a Bernoulli distribution:\n",
        "\n",
        "- It models a random experiment with only two outcomes: success (1) or failure (0).\n",
        "\n",
        "- Probability of success is p, and failure is 1 - p.\n",
        "\n",
        "- The random variable X takes values 1 (success) or 0 (failure).\n",
        "\n",
        "-  Mean (expected value) = p\n",
        "\n",
        "- Variance = p(1 - p)\n",
        "\n",
        "It’s the simplest discrete distribution, often used for yes/no questions."
      ],
      "metadata": {
        "id": "GWmp2A3ldNT6"
      }
    },
    {
      "cell_type": "markdown",
      "source": [
        "8.  What is the binomial distribution, and how is it used in probability ?\n",
        "-> The binomial distribution models the number of successes in a fixed number of independent trials, where each trial has two possible outcomes (success or failure) with the same probability p of success.\n",
        "\n",
        "It answers questions like:\n",
        "\"What’s the probability of getting exactly k heads in n coin tosses?\"\n",
        "\n",
        "Key points:\n",
        "\n",
        "- Number of trials: n\n",
        "\n",
        "- Success probability per trial: p\n",
        "\n",
        "- Random variable: number of successes (k)\n",
        "\n",
        "Used to calculate probabilities for counts of successes in repeated experiments."
      ],
      "metadata": {
        "id": "pFk8VgmDddFq"
      }
    },
    {
      "cell_type": "markdown",
      "source": [
        "9.  What is the Poisson distribution and where is it applied ?\n",
        "-> The Poisson distribution models the number of times an event happens in a fixed interval (time, area, etc.) when events occur independently and at a constant average rate.\n",
        "\n",
        "Example applications:\n",
        "\n",
        "- Number of emails received in an hour\n",
        "\n",
        "- Calls at a call center per minute\n",
        "\n",
        "- Decay events from a radioactive source\n",
        "\n",
        "It’s useful for counting rare or random events over time or space."
      ],
      "metadata": {
        "id": "HHi8Xty_domK"
      }
    },
    {
      "cell_type": "markdown",
      "source": [
        "10.  What is a continuous uniform distribution ?\n",
        "-> A continuous uniform distribution means a random variable can take any value within a range [a, b], and every value in that range is equally likely.\n",
        "\n",
        "For example, if a bus arrives anytime between 10 and 10:30, the arrival time is uniformly distributed between 10 and 10:30.\n",
        "\n",
        "The probability is spread evenly across the interval, so the PDF is flat between a and b."
      ],
      "metadata": {
        "id": "5obx1q82dyoS"
      }
    },
    {
      "cell_type": "markdown",
      "source": [
        "11.  What are the characteristics of a normal distribution ?\n",
        "\n",
        "-> Key characteristics of a normal distribution:\n",
        "\n",
        "- Bell-shaped curve — symmetric around the mean.\n",
        "\n",
        "- Defined by two parameters: mean (μ) and standard deviation (σ).\n",
        "\n",
        "- Mean, median, and mode are all equal.\n",
        "\n",
        "- About 68% of data falls within 1σ, 95% within 2σ, and 99.7% within 3σ (empirical rule).\n",
        "\n",
        "- Values closer to the mean are more likely; tails approach but never touch the horizontal axis."
      ],
      "metadata": {
        "id": "AzpZS4Amd76q"
      }
    },
    {
      "cell_type": "markdown",
      "source": [
        "12.  What is the standard normal distribution, and why is it important ?\n",
        "-> The standard normal distribution is a special normal distribution with:\n",
        "\n",
        "- Mean (μ) = 0\n",
        "\n",
        "- Standard deviation (σ) = 1\n",
        "\n",
        "It’s important because it lets us standardize any normal distribution by converting values into z-scores. This makes calculations and comparisons easier across different normal distributions."
      ],
      "metadata": {
        "id": "tx4a4EvSeHq6"
      }
    },
    {
      "cell_type": "markdown",
      "source": [
        "13.  What is the Central Limit Theorem (CLT), and why is it critical in statistics ?\n",
        "-> The Central Limit Theorem (CLT) states that, given a large enough sample size, the distribution of the sample mean will be approximately normal—regardless of the original data’s distribution.\n",
        "\n",
        "Why it’s critical:\n",
        "\n",
        "- It justifies using normal distribution methods for inference even when data isn’t normal.\n",
        "\n",
        "- Helps in hypothesis testing and confidence intervals.\n",
        "\n",
        "- Makes statistics practical and powerful in real-world problems."
      ],
      "metadata": {
        "id": "B1RrPpTDeQsC"
      }
    },
    {
      "cell_type": "markdown",
      "source": [
        "14. How does the Central Limit Theorem relate to the normal distribution ?\n",
        "-> The Central Limit Theorem (CLT) says that as you take larger samples, the distribution of the sample means approaches a normal distribution, no matter what the original data looks like.\n",
        "\n",
        "So, even if the data isn’t normal, the average of many samples will be roughly normal — which lets us use normal distribution tools for analysis."
      ],
      "metadata": {
        "id": "MJKOJW-qeeSy"
      }
    },
    {
      "cell_type": "markdown",
      "source": [
        "15. What is the application of Z statistics in hypothesis testing ?\n",
        "-> Z statistics helps decide if a sample mean is significantly different from a population mean when the population variance is known.\n",
        "\n",
        "In hypothesis testing, you:\n",
        "\n",
        "- Calculate the Z-score (how many standard deviations your sample is from the population mean)\n",
        "\n",
        "- Compare it to critical Z-values to accept or reject the null hypothesis.\n",
        "\n",
        "It’s used for testing means with large samples or known population variance."
      ],
      "metadata": {
        "id": "7I4WyZaaejmq"
      }
    },
    {
      "cell_type": "markdown",
      "source": [
        "16.  How do you calculate a Z-score, and what does it represent ?\n",
        "-> You calculate a Z-score with:\n",
        "\n",
        "Z= X−μ\\σ\n",
        "\n",
        "- X = observed value\n",
        "\n",
        "- μ = population mean\n",
        "\n",
        "- σ = population standard deviation\n",
        "\n",
        "It represents how many standard deviations a value is from the mean. Positive means above the mean, negative means below.\n",
        "\n"
      ],
      "metadata": {
        "id": "3nOWnc44er_q"
      }
    },
    {
      "cell_type": "markdown",
      "source": [
        "17.  What are point estimates and interval estimates in statistics ?\n",
        "- Point estimate is a single value that estimates a population parameter (like the sample mean estimating the population mean).\n",
        "\n",
        "- Interval estimate gives a range (confidence interval) where the parameter is likely to be, adding a measure of uncertainty.\n",
        "\n",
        "Example:\n",
        "\n",
        "- Point estimate: 50\n",
        "\n",
        "- Interval estimate: 50 ± 3 (meaning true value likely between 47 and 53)"
      ],
      "metadata": {
        "id": "ZVWi0HKIgLJK"
      }
    },
    {
      "cell_type": "markdown",
      "source": [
        "18.  What is the significance of confidence intervals in statistical analysis ?\n",
        "-> Confidence intervals (CIs) are important because they provide a range of values within which we expect the true population parameter (like a mean or proportion) to lie, based on our sample data.\n",
        "\n",
        "Instead of giving just one estimate (which might be off), a CI accounts for sampling variability and shows the uncertainty around the estimate.\n",
        "\n",
        "For example, a 95% confidence interval means that if we repeated the study many times, about 95% of those intervals would contain the true value. This helps in making more informed decisions rather than relying on a single point estimate."
      ],
      "metadata": {
        "id": "CrlZ3C2_gW9y"
      }
    },
    {
      "cell_type": "markdown",
      "source": [
        "19.  What is the relationship between a Z-score and a confidence interval ?\n",
        "-> The Z-score is used to calculate the confidence interval by determining how many standard deviations you go from the sample mean to capture a certain confidence level.\n",
        "\n",
        "For example, for a 95% confidence interval, you use a Z-score of about 1.96, meaning the interval extends 1.96 standard errors above and below the sample mean.\n",
        "\n",
        "So, Z-score helps define the width of the confidence interval based on the desired confidence level."
      ],
      "metadata": {
        "id": "lEwKRDOjgsG7"
      }
    },
    {
      "cell_type": "markdown",
      "source": [
        "20. How are Z-scores used to compare different distributions ?\n",
        "-> Z-scores are used to standardize values from different distributions by transforming them into a common scale. They measure how far (in standard deviations) a particular value is from its distribution’s mean.\n",
        "\n",
        "Because every distribution can have different means and spreads, Z-scores allow you to compare values from different distributions fairly. For example, if you want to compare a student’s score on two different tests with different averages and variability, converting both scores into Z-scores tells you which score is relatively better compared to each test’s group.\n",
        "\n",
        "This makes Z-scores very useful in comparing data points across different contexts or scales."
      ],
      "metadata": {
        "id": "ZMS_F0DVg3O7"
      }
    },
    {
      "cell_type": "markdown",
      "source": [
        "21. What are the assumptions for applying the Central Limit Theorem ?\n",
        "-> Key assumptions for the Central Limit Theorem (CLT):\n",
        "\n",
        "- Independence: The samples should be independent of each other.\n",
        "\n",
        "- Sample Size: The sample size should be sufficiently large (usually n ≥ 30 is considered enough).\n",
        "\n",
        "- Identically Distributed: The samples come from the same distribution.\n",
        "\n",
        "No strict assumption on the shape of the population distribution — CLT works even if the original data isn’t normal.\n",
        "\n",
        "These ensure the sample mean distribution approaches normality."
      ],
      "metadata": {
        "id": "kOU72H6HhChi"
      }
    },
    {
      "cell_type": "markdown",
      "source": [
        "22. What is the concept of expected value in a probability distribution ?\n",
        "->The expected value of a random variable is a weighted average of all possible outcomes, where each outcome is weighted by its probability.\n",
        "\n",
        "It represents the average result you’d expect if you repeated the random experiment many times. For example, if you roll a fair six-sided die, the expected value is the average of all numbers (1 to 6), each with equal probability 1/6, which is 3.5.\n",
        "\n",
        "Mathematically, for a discrete variable:\n",
        "\n",
        "   E(X)=∑[x\n",
        "i\n",
        "​\n",
        " ×P(x\n",
        "i\n",
        "​\n",
        " )]\n",
        " It helps summarize the overall behavior of a random process."
      ],
      "metadata": {
        "id": "aObO6xzHhSvq"
      }
    },
    {
      "cell_type": "markdown",
      "source": [
        "23.  How does a probability distribution relate to the expected outcome of a random variable?\n",
        "- A probability distribution describes all the possible values a random variable can take and the likelihood (probability) of each value occurring. It gives a complete picture of the behavior of that variable.\n",
        "\n",
        "The expected outcome (or expected value) uses this distribution to calculate a single number that represents the average or mean result you'd expect if you repeated the experiment many times. It does this by multiplying each possible value by its probability and summing these products.\n",
        "\n",
        "In other words, the expected value is a summary measure that condenses the entire probability distribution into one representative number, showing the long-term average outcome of the random variable. This helps us understand the “center” or typical value of the distribution."
      ],
      "metadata": {
        "id": "DdVizEeTh0JS"
      }
    }
  ]
}